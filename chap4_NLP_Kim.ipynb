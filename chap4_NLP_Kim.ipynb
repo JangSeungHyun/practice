{
  "nbformat": 4,
  "nbformat_minor": 0,
  "metadata": {
    "colab": {
      "name": "chap4_NLP_Kim.ipynb",
      "provenance": [],
      "private_outputs": true,
      "collapsed_sections": [],
      "authorship_tag": "ABX9TyON/aWksVn7fAsoY40JGk3P",
      "include_colab_link": true
    },
    "kernelspec": {
      "name": "python3",
      "display_name": "Python 3"
    }
  },
  "cells": [
    {
      "cell_type": "markdown",
      "metadata": {
        "id": "view-in-github",
        "colab_type": "text"
      },
      "source": [
        "<a href=\"https://colab.research.google.com/github/JangSeungHyun/practice/blob/master/chap4_NLP_Kim.ipynb\" target=\"_parent\"><img src=\"https://colab.research.google.com/assets/colab-badge.svg\" alt=\"Open In Colab\"/></a>"
      ]
    },
    {
      "cell_type": "markdown",
      "metadata": {
        "id": "BqMDpRyQsP53",
        "colab_type": "text"
      },
      "source": [
        "# **chap 4**"
      ]
    },
    {
      "cell_type": "markdown",
      "metadata": {
        "id": "u56BDLpesMp8",
        "colab_type": "text"
      },
      "source": [
        "크롤링 허용여부 확인 방법\n",
        "--> 각 사이트의 robots.txt 파일 확인"
      ]
    },
    {
      "cell_type": "code",
      "metadata": {
        "id": "ao0VOUoaow6C",
        "colab_type": "code",
        "colab": {}
      },
      "source": [
        "!wget https://www.naver.com/robots.txt\n",
        "!cat robots.txt"
      ],
      "execution_count": null,
      "outputs": []
    },
    {
      "cell_type": "markdown",
      "metadata": {
        "id": "UT0Qeo_7ucIm",
        "colab_type": "text"
      },
      "source": [
        "chap 4.3 정제 - 정규표현식 사용"
      ]
    },
    {
      "cell_type": "code",
      "metadata": {
        "id": "JRoBfP-fppFM",
        "colab_type": "code",
        "colab": {}
      },
      "source": [
        "import re\n",
        "regex = r\"([\\w]+\\s*:?\\s*)?\\(?\\+?([0-9]{1,3})?\\-?[0-9]{2,3}(\\)|\\-)?[0-9]{3,4}\\-?[0-9]{4}\""
      ],
      "execution_count": null,
      "outputs": []
    },
    {
      "cell_type": "code",
      "metadata": {
        "id": "WIMfuK1Su9YC",
        "colab_type": "code",
        "colab": {}
      },
      "source": [
        "x = \"Ki: +82-10-9420-4104\"\n",
        "re.sub(regex, \"REMOVED\", x)\n",
        "#정규표현식에 해당하는 부분 치환\n",
        "\n",
        "x = \"CONTENT jiu 02)9420-4104\"\n",
        "re.sub(regex, \"REMOVED\", x)"
      ],
      "execution_count": null,
      "outputs": []
    },
    {
      "cell_type": "code",
      "metadata": {
        "id": "-y9cvNzhvGf7",
        "colab_type": "code",
        "colab": {}
      },
      "source": [
        "x = ''' abcdefg\n",
        "12345\n",
        "ab12\n",
        "a1bc2d\n",
        "12ab\n",
        "a1b\n",
        "1a2\n",
        "a1\n",
        "1a\n",
        "hijklmnop'''\n",
        "\n",
        "regex = r'([a-z])[0-9]+([a-z])'\n",
        "to = r'\\1\\2'\n",
        "\n",
        "y = '\\n'.join([re.sub(regex, to, x_i) for x_i in x.split('\\n')])\n",
        "print(y)"
      ],
      "execution_count": null,
      "outputs": []
    },
    {
      "cell_type": "markdown",
      "metadata": {
        "id": "FzC2rEZRxX4V",
        "colab_type": "text"
      },
      "source": [
        "chap 4.4 문장 단위 분절"
      ]
    },
    {
      "cell_type": "code",
      "metadata": {
        "id": "tOY9S71o1XDq",
        "colab_type": "code",
        "colab": {}
      },
      "source": [
        "!pip install nltk"
      ],
      "execution_count": null,
      "outputs": []
    },
    {
      "cell_type": "code",
      "metadata": {
        "id": "AHHO2_FfxPEG",
        "colab_type": "code",
        "colab": {}
      },
      "source": [
        "import sys, fileinput, re\n",
        "from nltk.tokenize import sent_tokenize\n",
        "import nltk\n",
        "nltk.download('punkt')"
      ],
      "execution_count": null,
      "outputs": []
    },
    {
      "cell_type": "markdown",
      "metadata": {
        "id": "w-5C_h8k2kmc",
        "colab_type": "text"
      },
      "source": [
        "**문장단위 분절**"
      ]
    },
    {
      "cell_type": "code",
      "metadata": {
        "id": "274zpenDyfl0",
        "colab_type": "code",
        "colab": {}
      },
      "source": [
        "if __name__==\"__main__\":\n",
        "    line = \"자연어처리는 인공지능의 한 줄기 입니다. 시퀀스 투 시퀀스의 등장 이후로 딥러닝을 활용한 자연어처리는 새로운 전기를 맞이하게 되었습니다. 문장을 받아 단순히 수치로 나타내던 시절을 넘어, 원하는대로 문장으로 만들어낼 수 있게 된 것입니다.\"\n",
        "    if line.strip() != \"\":\n",
        "        line = re.sub(r'([a-z])\\.([A-Z])', r'\\1. \\2', line.strip())\n",
        "\n",
        "        sentences = sent_tokenize(line.strip())\n",
        "\n",
        "        for s in sentences:\n",
        "            if s != \"\":\n",
        "                sys.stdout.write(s + '\\n')"
      ],
      "execution_count": null,
      "outputs": []
    },
    {
      "cell_type": "markdown",
      "metadata": {
        "id": "OGzzKr8t2qDf",
        "colab_type": "text"
      },
      "source": [
        "**문장 합치기**\n"
      ]
    },
    {
      "cell_type": "code",
      "metadata": {
        "id": "VxUcyi0kymMB",
        "colab_type": "code",
        "colab": {}
      },
      "source": [
        "lines = \"자연어처리는 인공지능의 한 줄기 입니다. 시퀀스 투 시퀀스의 등장 이후로 \\n딥러닝을 활용한 자연어처리는 새로운 전기를 맞이하게 되었습니다. 문장을 \\n받아 단순히 수치로 나타내던 시절을 넘어, 원하는대로 문장으로 만들어낼 수 \\n있게 된 것입니다.\""
      ],
      "execution_count": null,
      "outputs": []
    },
    {
      "cell_type": "code",
      "metadata": {
        "id": "HQ0iakhizkjH",
        "colab_type": "code",
        "colab": {}
      },
      "source": [
        "if __name__=='__main__':\n",
        "    buf = []\n",
        "\n",
        "    if lines.strip() != '':\n",
        "        buf += [lines.strip('\\n').replace('\\n', ' ')]\n",
        "        print(buf)\n",
        "        sentences = sent_tokenize(\" \".join(buf))\n",
        "\n",
        "        if len(sentences) > 1:\n",
        "            buf = sentences[-1:]\n",
        "\n",
        "            sys.stdout.write('\\n'.join(sentences[:-1])+ '\\n')\n",
        "\n",
        "    sys.stdout.write(' '.join(buf)+'\\n')"
      ],
      "execution_count": null,
      "outputs": []
    },
    {
      "cell_type": "markdown",
      "metadata": {
        "id": "hz3iPKmI6fDo",
        "colab_type": "text"
      },
      "source": [
        "**4.5 분절**"
      ]
    },
    {
      "cell_type": "code",
      "metadata": {
        "id": "ZZdnGtqe3LTa",
        "colab_type": "code",
        "colab": {}
      },
      "source": [
        "# 영어 분절 예제\n",
        "\n",
        "import sys, fileinput\n",
        "from nltk.tokenize.moses import MosesTokenizer\n",
        "\n",
        "t = MosesTokenizer()\n",
        "\n",
        "if __name__=='__main__':\n",
        "    script = 'Natural language processing is one of biggest streams in artificial intelligence, and it becomes very popular after seq2seq's invention.'"
      ],
      "execution_count": null,
      "outputs": []
    },
    {
      "cell_type": "markdown",
      "metadata": {
        "id": "y4142Bgl-iwR",
        "colab_type": "text"
      },
      "source": [
        "**4.6 병렬 코퍼스 정렬**"
      ]
    },
    {
      "cell_type": "markdown",
      "metadata": {
        "id": "c4-kdVWM-m_H",
        "colab_type": "text"
      },
      "source": [
        "4.6.2 사전 생성\n",
        "\n",
        "병렬 코퍼스를 제작하기 위해서는 단어사전이 필요\n",
        "\n",
        "*   페이스북의 MUSE는 병렬 코퍼스가 없는 상황에서 사전 구축 방법과 코드를 제공\n",
        "*   각 단일 언어 코퍼스를 통해 구축한 언어별 단어 임베딩 벡터에 대해 다른 언어의 임베딩 벡터와 맵핑 시켜 단어 간 번역 수행\n",
        "*   MUSE는 병렬 코퍼스가 없는 상황에서도 수행할 수 있기 때문에 비지도학습이라고 할 수 있음\n",
        "\n",
        "\n"
      ]
    },
    {
      "cell_type": "code",
      "metadata": {
        "id": "hKZJ18js-mLo",
        "colab_type": "code",
        "colab": {}
      },
      "source": [
        ""
      ],
      "execution_count": null,
      "outputs": []
    }
  ]
}