{
  "nbformat": 4,
  "nbformat_minor": 0,
  "metadata": {
    "colab": {
      "name": "chap4_NLP_Kim.ipynb",
      "provenance": [],
      "private_outputs": true,
      "authorship_tag": "ABX9TyNgX7mJ7uKWku64iJDyNhxC",
      "include_colab_link": true
    },
    "kernelspec": {
      "name": "python3",
      "display_name": "Python 3"
    }
  },
  "cells": [
    {
      "cell_type": "markdown",
      "metadata": {
        "id": "view-in-github",
        "colab_type": "text"
      },
      "source": [
        "<a href=\"https://colab.research.google.com/github/JangSeungHyun/practice/blob/master/chap4_NLP_Kim.ipynb\" target=\"_parent\"><img src=\"https://colab.research.google.com/assets/colab-badge.svg\" alt=\"Open In Colab\"/></a>"
      ]
    },
    {
      "cell_type": "markdown",
      "metadata": {
        "id": "BqMDpRyQsP53",
        "colab_type": "text"
      },
      "source": [
        "# **chap 4**"
      ]
    },
    {
      "cell_type": "markdown",
      "metadata": {
        "id": "u56BDLpesMp8",
        "colab_type": "text"
      },
      "source": [
        "크롤링 허용여부 확인 방법"
      ]
    },
    {
      "cell_type": "code",
      "metadata": {
        "id": "ao0VOUoaow6C",
        "colab_type": "code",
        "colab": {}
      },
      "source": [
        "!wget https://www.naver.com/robots.txt\n",
        "!cat robots.txt"
      ],
      "execution_count": null,
      "outputs": []
    },
    {
      "cell_type": "markdown",
      "metadata": {
        "id": "UT0Qeo_7ucIm",
        "colab_type": "text"
      },
      "source": [
        "chap 4.3 정제 - 정규표현식 사용"
      ]
    },
    {
      "cell_type": "code",
      "metadata": {
        "id": "JRoBfP-fppFM",
        "colab_type": "code",
        "colab": {}
      },
      "source": [
        "import re\n",
        "regex = r\"([\\w]+\\s*:?\\s*)?\\(?\\+?([0-9]{1,3})?\\-?[0-9]{2,3}(\\)|\\-)?[0-9]{3,4}\\-?[0-9]{4}\""
      ],
      "execution_count": null,
      "outputs": []
    },
    {
      "cell_type": "code",
      "metadata": {
        "id": "WIMfuK1Su9YC",
        "colab_type": "code",
        "colab": {}
      },
      "source": [
        "x = \"Ki: +82-10-9420-4104\"\n",
        "re.sub(regex, \"REMOVED\", x)\n",
        "#정규표현식에 해당하는 부분 치환\n",
        "\n",
        "x = \"CONTENT jiu 02)9420-4104\"\n",
        "re.sub(regex, \"REMOVED\", x)"
      ],
      "execution_count": null,
      "outputs": []
    },
    {
      "cell_type": "code",
      "metadata": {
        "id": "-y9cvNzhvGf7",
        "colab_type": "code",
        "colab": {}
      },
      "source": [
        "x = ''' abcdefg\n",
        "12345\n",
        "ab12\n",
        "a1bc2d\n",
        "12ab\n",
        "a1b\n",
        "1a2\n",
        "a1\n",
        "1a\n",
        "hijklmnop'''\n",
        "\n",
        "regex = r'([a-z])[0-9]+([a-z])'\n",
        "to = r'\\1\\2'\n",
        "\n",
        "y = '\\n'.join([re.sub(regex, to, x_i) for x_i in x.split('\\n')])\n",
        "print(y)"
      ],
      "execution_count": null,
      "outputs": []
    },
    {
      "cell_type": "markdown",
      "metadata": {
        "id": "FzC2rEZRxX4V",
        "colab_type": "text"
      },
      "source": [
        "chap 4.4 문장 단위 분절"
      ]
    },
    {
      "cell_type": "code",
      "metadata": {
        "id": "AHHO2_FfxPEG",
        "colab_type": "code",
        "colab": {}
      },
      "source": [
        ""
      ],
      "execution_count": null,
      "outputs": []
    }
  ]
}