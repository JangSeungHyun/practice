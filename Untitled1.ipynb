{
  "nbformat": 4,
  "nbformat_minor": 0,
  "metadata": {
    "colab": {
      "name": "Untitled1.ipynb",
      "provenance": [],
      "private_outputs": true,
      "authorship_tag": "ABX9TyNzuD2CWaPDOpU8qMemB37J",
      "include_colab_link": true
    },
    "kernelspec": {
      "name": "python3",
      "display_name": "Python 3"
    }
  },
  "cells": [
    {
      "cell_type": "markdown",
      "metadata": {
        "id": "view-in-github",
        "colab_type": "text"
      },
      "source": [
        "<a href=\"https://colab.research.google.com/github/JangSeungHyun/practice/blob/master/Untitled1.ipynb\" target=\"_parent\"><img src=\"https://colab.research.google.com/assets/colab-badge.svg\" alt=\"Open In Colab\"/></a>"
      ]
    },
    {
      "cell_type": "markdown",
      "metadata": {
        "id": "BqMDpRyQsP53",
        "colab_type": "text"
      },
      "source": [
        "# **chap 4**"
      ]
    },
    {
      "cell_type": "markdown",
      "metadata": {
        "id": "u56BDLpesMp8",
        "colab_type": "text"
      },
      "source": [
        "크롤링 허용여부 확인 방법"
      ]
    },
    {
      "cell_type": "code",
      "metadata": {
        "id": "ao0VOUoaow6C",
        "colab_type": "code",
        "colab": {}
      },
      "source": [
        "!wget https://www.naver.com/robots.txt\n",
        "!cat robots.txt"
      ],
      "execution_count": null,
      "outputs": []
    },
    {
      "cell_type": "code",
      "metadata": {
        "id": "JRoBfP-fppFM",
        "colab_type": "code",
        "colab": {}
      },
      "source": [
        ""
      ],
      "execution_count": null,
      "outputs": []
    }
  ]
}