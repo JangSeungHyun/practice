{
  "nbformat": 4,
  "nbformat_minor": 0,
  "metadata": {
    "colab": {
      "name": "chap3.7.ipynb",
      "provenance": [],
      "private_outputs": true,
      "collapsed_sections": [],
      "authorship_tag": "ABX9TyOvSrf9k3070Q/arqEbaWI0",
      "include_colab_link": true
    },
    "kernelspec": {
      "name": "python3",
      "display_name": "Python 3"
    },
    "accelerator": "GPU"
  },
  "cells": [
    {
      "cell_type": "markdown",
      "metadata": {
        "id": "view-in-github",
        "colab_type": "text"
      },
      "source": [
        "<a href=\"https://colab.research.google.com/github/JangSeungHyun/practice/blob/master/chap3_7.ipynb\" target=\"_parent\"><img src=\"https://colab.research.google.com/assets/colab-badge.svg\" alt=\"Open In Colab\"/></a>"
      ]
    },
    {
      "cell_type": "markdown",
      "metadata": {
        "id": "wS_OOyj3jBNo",
        "colab_type": "text"
      },
      "source": [
        "김기현의 자연어처리 딥러닝 캠프\n",
        "chap 3 실습 코드"
      ]
    },
    {
      "cell_type": "code",
      "metadata": {
        "id": "p9Ww52aii1nH",
        "colab_type": "code",
        "colab": {}
      },
      "source": [
        "import random\n",
        "import torch\n",
        "import torch.nn as nn"
      ],
      "execution_count": null,
      "outputs": []
    },
    {
      "cell_type": "code",
      "metadata": {
        "id": "WlenMpY3jWzX",
        "colab_type": "code",
        "colab": {}
      },
      "source": [
        "class MyModel(nn.Module):\n",
        "\n",
        "    def __init__(self, input_size, output_size):\n",
        "        super(MyModel, self).__init__()\n",
        "\n",
        "        self.linear = nn.Linear(input_size, output_size)\n",
        "\n",
        "    def forward(self, x):\n",
        "        y = self.linear(x)\n",
        "\n",
        "        return y"
      ],
      "execution_count": null,
      "outputs": []
    },
    {
      "cell_type": "code",
      "metadata": {
        "id": "SkFAQ6vDjoMR",
        "colab_type": "code",
        "colab": {}
      },
      "source": [
        "def ground_truth(x):\n",
        "    return 3*x[:,0]+x[:,1]-2*x[:,2]"
      ],
      "execution_count": null,
      "outputs": []
    },
    {
      "cell_type": "code",
      "metadata": {
        "id": "CwcJAsXzkR1D",
        "colab_type": "code",
        "colab": {}
      },
      "source": [
        "def train(model, x, y, optim):\n",
        "    optim.zero_grad()\n",
        "\n",
        "    y_hat = model(x)\n",
        "\n",
        "    loss = ((y-y_hat)**2).sum()/x.size(0)\n",
        "\n",
        "    loss.backward()\n",
        "\n",
        "    optim.step()\n",
        "\n",
        "    return loss.data"
      ],
      "execution_count": null,
      "outputs": []
    },
    {
      "cell_type": "code",
      "metadata": {
        "id": "HTTJPIfuklCi",
        "colab_type": "code",
        "colab": {}
      },
      "source": [
        "batch_size=1\n",
        "n_epochs = 1000\n",
        "n_iter = 10000\n",
        "\n",
        "model = MyModel(3, 1)\n",
        "# optim -> 최적화 알고리즘, SGD는 stochastic gradient descent의미\n",
        "optim = torch.optim.SGD(model.parameters(), lr=0.0001, momentum=0.1)\n",
        "\n",
        "print(model)"
      ],
      "execution_count": null,
      "outputs": []
    },
    {
      "cell_type": "code",
      "metadata": {
        "id": "tkGompCelmOZ",
        "colab_type": "code",
        "colab": {}
      },
      "source": [
        "for epoch in range(n_epochs):\n",
        "    avg_loss = 0\n",
        "\n",
        "    for i in range(n_iter):\n",
        "        x = torch.rand(batch_size, 3)\n",
        "        y = ground_truth(x.data)\n",
        "        loss = train(model, x, y, optim)\n",
        "\n",
        "        avg_loss += loss\n",
        "        avg_loss = avg_loss/n_iter\n",
        "\n",
        "    x_valid = torch.FloatTensor([[.3,.2,.1]])\n",
        "    y_valid = ground_truth(x_valid.data)\n",
        "\n",
        "    model.eval()\n",
        "    y_hat= model(x_valid)\n",
        "    model.train()\n",
        "\n",
        "    print(avg_loss, y_valid.data[0],y_hat.data[0, 0])\n",
        "\n",
        "    if avg_loss<100:\n",
        "        break"
      ],
      "execution_count": null,
      "outputs": []
    },
    {
      "cell_type": "code",
      "metadata": {
        "id": "pW4Yk5Twmgs8",
        "colab_type": "code",
        "colab": {}
      },
      "source": [
        ""
      ],
      "execution_count": null,
      "outputs": []
    }
  ]
}