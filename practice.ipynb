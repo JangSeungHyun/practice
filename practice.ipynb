{
  "nbformat": 4,
  "nbformat_minor": 0,
  "metadata": {
    "colab": {
      "name": "practice.ipynb",
      "provenance": [],
      "collapsed_sections": [],
      "mount_file_id": "1AyF32shAWEUBxI8NvmlmlQIucaI-Ko-m",
      "authorship_tag": "ABX9TyPpr7QfdNeZJrr2AgkGE6l4",
      "include_colab_link": true
    },
    "kernelspec": {
      "name": "python3",
      "display_name": "Python 3"
    },
    "accelerator": "GPU"
  },
  "cells": [
    {
      "cell_type": "markdown",
      "metadata": {
        "id": "view-in-github",
        "colab_type": "text"
      },
      "source": [
        "<a href=\"https://colab.research.google.com/github/JangSeungHyun/practice/blob/master/practice.ipynb\" target=\"_parent\"><img src=\"https://colab.research.google.com/assets/colab-badge.svg\" alt=\"Open In Colab\"/></a>"
      ]
    },
    {
      "cell_type": "markdown",
      "metadata": {
        "id": "eenJ69SaPzZU",
        "colab_type": "text"
      },
      "source": [
        "**git 초기 설정**\n",
        "\n"
      ]
    },
    {
      "cell_type": "code",
      "metadata": {
        "id": "Ql30cM5lNFyk",
        "colab_type": "code",
        "colab": {}
      },
      "source": [
        "!git add practice.ipynb"
      ],
      "execution_count": 72,
      "outputs": []
    },
    {
      "cell_type": "code",
      "metadata": {
        "id": "255sHE70NOeC",
        "colab_type": "code",
        "colab": {
          "base_uri": "https://localhost:8080/",
          "height": 70
        },
        "outputId": "20692537-dcd9-49a5-cc08-2679b4d2ac60"
      },
      "source": [
        "!git commit -m \"message\""
      ],
      "execution_count": 73,
      "outputs": [
        {
          "output_type": "stream",
          "text": [
            "[master d9f8103] message\n",
            " 1 file changed, 1 insertion(+), 1 deletion(-)\n",
            " rewrite practice.ipynb (95%)\n"
          ],
          "name": "stdout"
        }
      ]
    },
    {
      "cell_type": "code",
      "metadata": {
        "id": "-cO6RVXONdL-",
        "colab_type": "code",
        "colab": {
          "base_uri": "https://localhost:8080/",
          "height": 105
        },
        "outputId": "59b45133-a555-4faa-abb4-637ceccc2f5b"
      },
      "source": [
        "!git push -u origin master"
      ],
      "execution_count": 74,
      "outputs": [
        {
          "output_type": "stream",
          "text": [
            "Host key verification failed.\r\n",
            "fatal: Could not read from remote repository.\n",
            "\n",
            "Please make sure you have the correct access rights\n",
            "and the repository exists.\n"
          ],
          "name": "stdout"
        }
      ]
    },
    {
      "cell_type": "code",
      "metadata": {
        "id": "2ra0PLHJtIlD",
        "colab_type": "code",
        "colab": {}
      },
      "source": [
        "import torch\n",
        "import numpy as np"
      ],
      "execution_count": 5,
      "outputs": []
    },
    {
      "cell_type": "code",
      "metadata": {
        "id": "ZgWqYZvQtUva",
        "colab_type": "code",
        "colab": {
          "base_uri": "https://localhost:8080/",
          "height": 87
        },
        "outputId": "ac9c2de2-8fd9-4b0d-a531-8e9322a8f350"
      },
      "source": [
        "x = torch.Tensor([[1,2], [3,4]])\n",
        "print(x)\n",
        "x = torch.from_numpy(np.array([[1,2],[3,4]]))\n",
        "\n",
        "print(x)"
      ],
      "execution_count": 9,
      "outputs": [
        {
          "output_type": "stream",
          "text": [
            "tensor([[1., 2.],\n",
            "        [3., 4.]])\n",
            "tensor([[1, 2],\n",
            "        [3, 4]])\n"
          ],
          "name": "stdout"
        }
      ]
    },
    {
      "cell_type": "code",
      "metadata": {
        "id": "fjdwUnqBtjHd",
        "colab_type": "code",
        "colab": {
          "base_uri": "https://localhost:8080/",
          "height": 52
        },
        "outputId": "5f0bc14d-fd7c-4579-dfbc-c59b2870f81d"
      },
      "source": [
        "x = np.array([[1,2],[3,4]])\n",
        "print(x)"
      ],
      "execution_count": 10,
      "outputs": [
        {
          "output_type": "stream",
          "text": [
            "[[1 2]\n",
            " [3 4]]\n"
          ],
          "name": "stdout"
        }
      ]
    },
    {
      "cell_type": "code",
      "metadata": {
        "id": "EdaYJem6t7gR",
        "colab_type": "code",
        "colab": {
          "base_uri": "https://localhost:8080/",
          "height": 52
        },
        "outputId": "b9762025-1aa0-47cc-a916-b3ba889fe17a"
      },
      "source": [
        "x = torch.FloatTensor(2,2)\n",
        "y = torch.FloatTensor(2, 2)\n",
        "y.requires_grad_(True)\n",
        "\n",
        "with torch.no_grad():\n",
        "  z = (x + y + torch.FloatTensor(2, 2))\n",
        "\n",
        "print(z)"
      ],
      "execution_count": 19,
      "outputs": [
        {
          "output_type": "stream",
          "text": [
            "tensor([[4.1073e-35, 0.0000e+00],\n",
            "        [3.7835e-43, 1.1210e-43]])\n"
          ],
          "name": "stdout"
        }
      ]
    },
    {
      "cell_type": "code",
      "metadata": {
        "id": "x0nB4k4oy_66",
        "colab_type": "code",
        "colab": {
          "base_uri": "https://localhost:8080/",
          "height": 298
        },
        "outputId": "197a0c63-ed43-4286-ea3b-a2c73baa05fa"
      },
      "source": [
        "def linear(x, W, b):\n",
        "  y = torch.mm(x, W) + b\n",
        "  return y\n",
        "\n",
        "x = torch.FloatTensor(16, 10)\n",
        "W = torch.FloatTensor(10, 5)\n",
        "b = torch.FloatTensor(5)\n",
        "\n",
        "y = linear(x, W, b)\n",
        "\n",
        "print(y)"
      ],
      "execution_count": 23,
      "outputs": [
        {
          "output_type": "stream",
          "text": [
            "tensor([[1.4011e-35, 0.0000e+00, 1.1210e-43, 0.0000e+00, 1.4013e-45],\n",
            "        [1.4011e-35, 0.0000e+00, 1.1210e-43, 0.0000e+00, 1.4013e-45],\n",
            "        [1.4011e-35, 0.0000e+00, 1.1210e-43, 0.0000e+00, 1.4013e-45],\n",
            "        [1.4011e-35, 0.0000e+00, 1.1210e-43, 0.0000e+00, 1.4013e-45],\n",
            "        [1.4011e-35, 0.0000e+00, 1.1210e-43, 0.0000e+00, 1.4013e-45],\n",
            "        [1.4011e-35, 0.0000e+00, 1.1210e-43, 0.0000e+00, 1.4013e-45],\n",
            "        [1.4011e-35, 0.0000e+00, 1.1210e-43, 0.0000e+00, 1.4013e-45],\n",
            "        [1.4011e-35, 0.0000e+00, 1.1210e-43, 0.0000e+00, 1.4013e-45],\n",
            "        [1.4011e-35, 0.0000e+00, 1.1210e-43, 0.0000e+00, 1.4013e-45],\n",
            "        [1.4011e-35, 0.0000e+00, 1.1210e-43, 0.0000e+00, 1.4013e-45],\n",
            "        [1.4011e-35, 0.0000e+00, 1.1210e-43, 0.0000e+00, 1.4013e-45],\n",
            "        [1.4011e-35, 0.0000e+00, 1.1210e-43, 0.0000e+00, 1.4013e-45],\n",
            "        [1.4011e-35, 0.0000e+00, 1.1210e-43, 0.0000e+00, 1.4013e-45],\n",
            "        [1.4011e-35, 0.0000e+00, 1.1210e-43, 0.0000e+00, 1.4013e-45],\n",
            "        [1.4011e-35, 0.0000e+00, 1.1210e-43, 0.0000e+00, 1.4013e-45],\n",
            "        [1.4011e-35, 0.0000e+00, 1.1210e-43, 0.0000e+00, 1.4013e-45]])\n"
          ],
          "name": "stdout"
        }
      ]
    },
    {
      "cell_type": "code",
      "metadata": {
        "id": "1wmcp9vc6YMg",
        "colab_type": "code",
        "colab": {}
      },
      "source": [
        "import torch.nn as nn\n",
        "class MyLinear(nn.Module):\n",
        "\n",
        "  def __init__(self, input_size, output_size):\n",
        "    super(MyLinear, self).__init__()\n",
        "\n",
        "    self.linear = nn.Linear(input_size, output_size)\n",
        "\n",
        "  def forward(self, x):\n",
        "    y = self.linear(x)\n",
        "\n",
        "    return y"
      ],
      "execution_count": 36,
      "outputs": []
    },
    {
      "cell_type": "code",
      "metadata": {
        "id": "aOOGdrV581cR",
        "colab_type": "code",
        "colab": {}
      },
      "source": [
        "x = torch.FloatTensor(16, 10)\n",
        "linear = MyLinear(10, 5)\n",
        "\n",
        "y = linear(x)"
      ],
      "execution_count": 37,
      "outputs": []
    },
    {
      "cell_type": "code",
      "metadata": {
        "id": "MW2tkBdq91g9",
        "colab_type": "code",
        "colab": {
          "base_uri": "https://localhost:8080/",
          "height": 70
        },
        "outputId": "23213a4e-8103-4e73-ac46-1e2693433a0e"
      },
      "source": [
        "print(linear)"
      ],
      "execution_count": 38,
      "outputs": [
        {
          "output_type": "stream",
          "text": [
            "MyLinear(\n",
            "  (linear): Linear(in_features=10, out_features=5, bias=True)\n",
            ")\n"
          ],
          "name": "stdout"
        }
      ]
    },
    {
      "cell_type": "code",
      "metadata": {
        "id": "XdSgbFi69214",
        "colab_type": "code",
        "colab": {}
      },
      "source": [
        "objective = 100\n",
        "\n",
        "x = torch.FloatTensor(16, 10)\n",
        "linear = MyLinear(10, 5)\n",
        "y = linear(x)\n",
        "loss = (objective - y.sum())**2\n",
        "\n",
        "loss.backward()"
      ],
      "execution_count": 42,
      "outputs": []
    },
    {
      "cell_type": "code",
      "metadata": {
        "id": "xSa4mf8jAEPS",
        "colab_type": "code",
        "colab": {}
      },
      "source": [
        ""
      ],
      "execution_count": null,
      "outputs": []
    }
  ]
}